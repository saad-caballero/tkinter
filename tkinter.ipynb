{
 "cells": [
  {
   "cell_type": "code",
   "execution_count": null,
   "id": "45d24375-32a7-42cd-b78a-a625482fab62",
   "metadata": {},
   "outputs": [],
   "source": [
    "import tkinter as tk\n",
    "\n",
    "def fahrenheit_to_celsius():\n",
    "    fahrenheit = float(ent_temperature.get())\n",
    "    celsius = (fahrenheit - 32) * 5/9\n",
    "    lbl_result.config(text=f\"{celsius:.2f} \\N{DEGREE CELSIUS}\")\n",
    "\n",
    "# Création de la fenêtre Tkinter\n",
    "window = tk.Tk()\n",
    "window.title(\"Convertisseur de Température\")\n",
    "window.resizable(width=False, height=False)\n",
    "\n",
    "# Création du cadre pour contenir les widgets\n",
    "frm_entry = tk.Frame(master=window)\n",
    "\n",
    "# Création du widget d'entrée Fahrenheit\n",
    "ent_temperature = tk.Entry(master=frm_entry, width=10)\n",
    "\n",
    "# Création du widget label pour afficher le symbole du degré Fahrenheit\n",
    "lbl_temp = tk.Label(master=frm_entry, text=\"\\N{DEGREE FAHRENHEIT}\")\n",
    "\n",
    "# Organisation des widgets d'entrée et de label dans le cadre\n",
    "ent_temperature.grid(row=0, column=0, sticky=\"e\")\n",
    "lbl_temp.grid(row=0, column=1, sticky=\"w\")\n",
    "\n",
    "# Création du widget bouton pour lancer la conversion\n",
    "btn_convert = tk.Button(master=window, text=\"\\N{RIGHTWARDS BLACK ARROW}\", command=fahrenheit_to_celsius)\n",
    "\n",
    "# Création du widget label pour afficher le résultat de la conversion en Celsius\n",
    "lbl_result = tk.Label(master=window, text=\"\\N{DEGREE CELSIUS}\")\n",
    "\n",
    "# Organisation des widgets dans la fenêtre principale\n",
    "frm_entry.grid(row=0, column=0, padx=10)\n",
    "btn_convert.grid(row=0, column=1, pady=10)\n",
    "lbl_result.grid(row=0, column=2, padx=10)\n",
    "\n",
    "# Démarrage de l'application Tkinter\n",
    "window.mainloop()\n"
   ]
  },
  {
   "cell_type": "code",
   "execution_count": null,
   "id": "4c98fe01-0ba3-488b-8d45-9f8c50ac41d4",
   "metadata": {},
   "outputs": [],
   "source": []
  }
 ],
 "metadata": {
  "kernelspec": {
   "display_name": "Python 3 (ipykernel)",
   "language": "python",
   "name": "python3"
  },
  "language_info": {
   "codemirror_mode": {
    "name": "ipython",
    "version": 3
   },
   "file_extension": ".py",
   "mimetype": "text/x-python",
   "name": "python",
   "nbconvert_exporter": "python",
   "pygments_lexer": "ipython3",
   "version": "3.11.5"
  }
 },
 "nbformat": 4,
 "nbformat_minor": 5
}
